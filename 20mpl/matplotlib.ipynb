{
 "cells": [
  {
   "cell_type": "code",
   "execution_count": null,
   "metadata": {
    "scrolled": true
   },
   "outputs": [],
   "source": [
    "import matplotlib.pyplot as plt"
   ]
  },
  {
   "cell_type": "markdown",
   "metadata": {
    "heading_collapsed": true
   },
   "source": [
    "# Matplotlib\n",
    "Строчка импорта наверху подключает matplotlib\n",
    "\n",
    "**matplotlib** - проверенная временем библиотека научной визуализации данных для python. Может рисовать графики по-разному: в своем окне, в графический файл, в браузере.\n",
    "\n",
    "Что читать про matplotlib: https://pyprog.pro/mpl/mpl_short_guide.html\n",
    "\n",
    "Официальная документация: https://matplotlib.org/stable/"
   ]
  },
  {
   "cell_type": "markdown",
   "metadata": {
    "heading_collapsed": true,
    "hidden": true
   },
   "source": [
    "## Основные части Matplotlib и два подхода к рисованию\n",
    "Основные объекты: \n",
    "\n",
    "- `figure` — \"иллюстрация\", главный контейнер для графиков, может содержть несколько графиков, создаваемых при помощи `subplot`;\n",
    "- `axes` — \"оси\", отдельный график со своими осями, настройками и т. д.\n",
    "\n",
    "В работе с matplotlib можно применять два подхода: \n",
    "\n",
    "1. _объектно-ориентированный_, когда вызываются методы иллюстраций или осей,\n",
    "2. _императивный_, или _с состоянием_ (stateful),  когда библиотека помнит текущий объект, и вызовами функций библиотеки эти объекты создаются или настраиваются"
   ]
  },
  {
   "cell_type": "code",
   "execution_count": null,
   "metadata": {
    "hidden": true,
    "scrolled": true
   },
   "outputs": [],
   "source": [
    "# ОО подход, методы объектов Figure или AxesSubplot\n",
    "\n",
    "fig = plt.figure(figsize=(10,4)) # контейнер, а внутри него:\n",
    "ax1 = fig.add_subplot(1, 2, 1)   # в сетке 1x2 первый график\n",
    "ax2 = fig.add_subplot(1, 2, 2)   # в сетке 1x2 второй график\n",
    "\n",
    "fig.set(facecolor = 'green')\n",
    "fig.suptitle('Это — figure')\n",
    "\n",
    "ax1.set(title = 'Это - оси ax_1', facecolor='#fff0f0')\n",
    "ax1.set_xlabel('время')\n",
    "ax1.set_ylabel('деньги')\n",
    "ax1.grid(True)\n",
    "ax1.plot([0, 1, 2, 3, 4], [0, 6, 7, 15, 19])\n",
    "\n",
    "ax2.set(title = 'Это - оси ax_2', xticks=[], yticks=[], facecolor='#f0f0ff')\n",
    "ax2.set_xlabel('площадь')\n",
    "ax2.set_ylabel('урожай')\n",
    "ax2.scatter([0, 1, 2, 3, 4], [1, 3, 8, 12, 27], color = 'orange')\n",
    "\n",
    "plt.show()"
   ]
  },
  {
   "cell_type": "code",
   "execution_count": null,
   "metadata": {
    "hidden": true,
    "scrolled": true
   },
   "outputs": [],
   "source": [
    "# Императивный подход - зовем функции из модуля pyplot\n",
    "import matplotlib.pyplot as plt\n",
    "\n",
    "plt.plot([0, 1, 2, 3, 4], [0, 6, 7, 15, 19], linewidth=3)\n",
    "plt.title('императивный подход')\n",
    "plt.xlabel('время')\n",
    "plt.show()"
   ]
  },
  {
   "cell_type": "markdown",
   "metadata": {
    "heading_collapsed": true,
    "hidden": true
   },
   "source": [
    "## Способы вызова и бэкенды\n",
    "Что делает `plt.show()` — зависит от бэкенда. Проверьте текущий:"
   ]
  },
  {
   "cell_type": "code",
   "execution_count": null,
   "metadata": {
    "hidden": true,
    "scrolled": true
   },
   "outputs": [],
   "source": [
    "import matplotlib\n",
    "matplotlib.get_backend()"
   ]
  },
  {
   "attachments": {
    "image.png": {
     "image/png": "[encoded data removed]"
    }
   },
   "cell_type": "markdown",
   "metadata": {
    "hidden": true
   },
   "source": [
    "При вызове matplotlib из обычного Python с командной строки бэкенд будет оконный, например, TkAgg. При вызове появится интерактивное окно, где можно будет двигать, приближать и отдалять график, а также сохранять график в любом из поддерживаемых форматов:\n",
    "\n",
    "![image.png](attachment:image.png)\n",
    "\n",
    "Попробуйте запустить с командной строки файл mplexample.py  в текущей папке:\n",
    "\n",
    "     python mplexample.py \n",
    "     \n",
    "Появится изображенное выше окно, а в командной строке - наименование бэкенда.\n",
    "\n",
    "Для ipython/Jupyter Notebook есть magic-команда\n",
    "\n",
    "     %matplotlib <бэкенд>\n",
    "     \n",
    "которая переключает бэкенд. По умолчанию используется `inline`, что подходит для концепции блокнота с картинками. Он выключает интерактивную функциональность. Для javascript-приближения к интерактивному окну используется бэкенд notebook. \n",
    "\n",
    "**ВНИМАНИЕ: команда `%matplotlib inline/%matplotlib notebook` должна быть выполнена до импорта pyplot!**\n",
    "\n",
    "Вставьте строку\n",
    "\n",
    "     %matplotlib notebook\n",
    "\n",
    "в самое начало самой первой клетки. Сохраните и перезапустите (restart kernel) и сравните поведение графиков.\n",
    "\n",
    "Интерактивное поведение пригодится для 3d графиков, которые хорошо вопринимаются в динамике."
   ]
  },
  {
   "cell_type": "markdown",
   "metadata": {
    "heading_collapsed": true,
    "hidden": true
   },
   "source": [
    "## Графики\n",
    "\n",
    "Общий принцип понятен. Есть \n",
    "\n",
    "1. методы для создания различных видов графиков: `plot`, `scatter`, `bar`, `contour` (см. первую ссылку для подробного знакомства с наиболее популярными возможностями), и \n",
    "\n",
    "2. методы объекта \"оси\" для настройки графика (метки, легенда. заголовки, сетка и т.д.). \n",
    "\n",
    "Методы для каждого из типов графиков обычно принимают обязательные парамаетры, задающие данные, и широкий набор необязательных именованных (keyword) параметров, которыми можно настроить отображение: цвет, толщину линий и т.п.\n",
    "\n",
    "Определим общие данные для двумерного графика"
   ]
  },
  {
   "cell_type": "code",
   "execution_count": null,
   "metadata": {
    "hidden": true,
    "scrolled": false
   },
   "outputs": [],
   "source": [
    "import numpy as np\n",
    "\n",
    "delta = 0.025\n",
    "x = np.arange(-3.0, 3.0, delta)\n",
    "y = np.arange(-2.0, 2.0, delta)\n",
    "X, Y = np.meshgrid(x, y)\n",
    "Z1 = np.exp(-X**2 - Y**2)\n",
    "Z2 = np.exp(-(X - 1)**2 - (Y - 1)**2)\n",
    "Z = (Z1 - Z2) / 2"
   ]
  },
  {
   "cell_type": "code",
   "execution_count": null,
   "metadata": {
    "hidden": true,
    "scrolled": false
   },
   "outputs": [],
   "source": [
    "fig, ax = plt.subplots()\n",
    "ax.set_title('Контурный график - для функции двух переменных')\n",
    "contour = ax.contour(X, Y, Z)\n",
    "ax.grid(True)\n",
    "ax.clabel(contour, inline=True, fontsize=10)\n",
    "plt.show()"
   ]
  },
  {
   "cell_type": "code",
   "execution_count": null,
   "metadata": {
    "hidden": true,
    "scrolled": true
   },
   "outputs": [],
   "source": [
    "fig, ax = plt.subplots()\n",
    "ax.set_title('Заполненный контурный график')\n",
    "contour = plt.contourf(X, Y, Z, levels=30, cmap='jet')\n",
    "plt.show()"
   ]
  },
  {
   "cell_type": "markdown",
   "metadata": {
    "heading_collapsed": true,
    "hidden": true
   },
   "source": [
    "## 3d-графика\n",
    "3D графики разрабатывались отдельно и значительно позже основной части matplotlib. С ними до сих пор не все идеально. Для восприятия лучше интерактивность, перезапустите если еще не перезапускали, ядро и выполните `%matplotlib notebook`  перед импортом Pyplot."
   ]
  },
  {
   "cell_type": "code",
   "execution_count": null,
   "metadata": {
    "hidden": true,
    "scrolled": true
   },
   "outputs": [],
   "source": [
    "fig, ax = plt.subplots(subplot_kw=dict(projection='3d'))\n",
    "surf = ax.plot_surface(X, Y, Z)\n",
    "plt.show()"
   ]
  },
  {
   "cell_type": "markdown",
   "metadata": {
    "heading_collapsed": true,
    "hidden": true
   },
   "source": [
    "## Анимация\n",
    "\n",
    "FuncAnimation принимат функцию, которая перестраивает график в зависимости от единственного параметра — номера кадра. В примере ниже используется иметод set_data, который заменяет данные уже построенного графика типа `plot`"
   ]
  },
  {
   "cell_type": "code",
   "execution_count": null,
   "metadata": {
    "hidden": true,
    "scrolled": true
   },
   "outputs": [],
   "source": [
    "%matplotlib notebook\n",
    "\n",
    "import matplotlib.pyplot as plt\n",
    "from matplotlib import animation\n",
    "import numpy as np\n",
    "\n",
    "t = np.linspace(0, 2 * np.pi, 200)\n",
    "x = np.sin(t)\n",
    "\n",
    "fig, ax = plt.subplots()\n",
    "ax.axis([0, 2 * np.pi, -2, 2])\n",
    "l, = ax.plot([], [])\n",
    "\n",
    "def animate(i):\n",
    "    l.set_data(t[:i], x[:i])\n",
    "    \n",
    "fps = 30 # frame per sec\n",
    "\n",
    "ani = animation.FuncAnimation(fig, \n",
    "                              animate, \n",
    "                              frames=len(t), \n",
    "                              interval=1000.0 / fps)"
   ]
  },
  {
   "cell_type": "markdown",
   "metadata": {
    "heading_collapsed": true,
    "hidden": true
   },
   "source": [
    "## Интерактивные данные для графиков\n",
    "Пример ниже показывает возможности интеграции интерактивных управляющих элементов для графиков. \n",
    "**Требуется наличие установленного пакета scipy**"
   ]
  },
  {
   "cell_type": "code",
   "execution_count": null,
   "metadata": {
    "hidden": true,
    "scrolled": true
   },
   "outputs": [],
   "source": [
    "import scipy.integrate # For integration.\n",
    "from ipywidgets import interactive # Allows for an interactive widget bar.\n",
    "\n",
    "S0 = 0.95\n",
    "I0 = 0.05\n",
    "R0 = 0.0\n",
    "\n",
    "def SIR_model(y, t, beta, gamma):\n",
    "    S, I, R = y\n",
    "    dS_dt = -beta*S*I\n",
    "    dI_dt = beta*S*I - gamma*I\n",
    "    dR_dt = gamma*I\n",
    "    return([dS_dt, dI_dt, dR_dt,])\n",
    "    \n",
    "def interactive_func(beta, gamma):    \n",
    "    # Graph from 0 to 100, include 10000 points.\n",
    "    t = np.linspace(0, 100, 10000) \n",
    "    \n",
    "    solution = scipy.integrate.odeint(SIR_model, [S0, I0, R0], t, args=(beta, gamma))\n",
    "    solution = np.array(solution)\n",
    "\n",
    "    plt.figure(figsize=[8, 5])\n",
    "\n",
    "    plt.plot(t, solution[:, 0], label=\"S(t)\")\n",
    "    plt.plot(t, solution[:, 1], label=\"I(t)\")\n",
    "    plt.plot(t, solution[:, 2], label=\"R(t)\")\n",
    "\n",
    "    plt.grid()\n",
    "    plt.legend()\n",
    "\n",
    "    plt.title(\"SIR Model\")\n",
    "    plt.xlabel(\"Time\")\n",
    "    plt.ylabel(\"Proportions of Populations\")\n",
    "    \n",
    "\n",
    "interactive_plot = interactive(interactive_func, \n",
    "                               beta=(0.35,1,0.01), \n",
    "                               gamma=(0.1,1,0.01))\n",
    "interactive_plot"
   ]
  },
  {
   "cell_type": "code",
   "execution_count": null,
   "metadata": {
    "hidden": true,
    "scrolled": true
   },
   "outputs": [],
   "source": []
  }
 ],
 "metadata": {
  "kernelspec": {
   "display_name": "Python 3",
   "language": "python",
   "name": "python3"
  },
  "language_info": {
   "codemirror_mode": {
    "name": "ipython",
    "version": 3
   },
   "file_extension": ".py",
   "mimetype": "text/x-python",
   "name": "python",
   "nbconvert_exporter": "python",
   "pygments_lexer": "ipython3",
   "version": "3.6.8"
  }
 },
 "nbformat": 4,
 "nbformat_minor": 4
}
